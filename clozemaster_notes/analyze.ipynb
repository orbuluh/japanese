{
 "cells": [
  {
   "cell_type": "code",
   "execution_count": 15,
   "metadata": {},
   "outputs": [
    {
     "name": "stdout",
     "output_type": "stream",
     "text": [
      "は\n",
      "\t('wa', 'topic marker particle', '私の最初の務めは資格のない志願者をふるいにかけることだった。', '\"My first duty was to screen unqualified applicants.\"')\n",
      "\t('wa', 'topic marker particle', 'だれの得にもならない風は吹かない。', '\"The wind that benefits no one does not blow.\"')\n",
      "\t('wa', 'topic marker particle', '心熱けれど肉体は弱し。', '\"Although my spirit is willing, my body is weak.\"')\n",
      "\t('wa', 'topic marker particle', '彼は６０歳をこえているけれども、若く見えます。', '\"Even though he is over 60 years old, he looks young.\"')\n",
      "を\n",
      "\t('o', 'object marker particle', '私の最初の務めは資格のない志願者をふるいにかけることだった。', '\"My first duty was to screen unqualified applicants.\"')\n",
      "\t('o', 'object marker particle', '手紙を下さい。', '\"Please give me a letter.\"')\n",
      "\t('o', 'object marker particle', 'おんがくにわたしは生きがいを持っています。', '\"I find my life\\'s purpose in music.\"')\n",
      "\t('o', 'object marker particle', '連絡先をここに書いてください。', '\"Please write down your contact information here.\"')\n",
      "\t('o', 'object marker particle', '鉛筆であなたの名前を書きなさい。', '\"Write your name with a pencil.\"')\n",
      "下さい\n",
      "\t('ku-da-sai', 'please give (polite imperative form of the verb \"kudasaru\")', '手紙を下さい。', '\"Please give me a letter.\"')\n",
      "\t('ku-da-sai', 'please (polite request form of the verb \"kudasaru\")', '右の道を行って下さい。', '\"Please go down the road on the right.\"')\n",
      "わけにはいかない\n",
      "\t('wa-ke-ni-wa-i-ka-na-i', \"can't afford to do (set phrase expressing that something is not possible to do for some reason)\", '21カ月前、真冬の最中に始まったものを、この秋の夜に終らせるわけにはいかない。', '\"It\\'s impossible to finish something that started 21 months ago in the dead of winter on a night in autumn.\"')\n",
      "\t('wa-ke-ni-wa-i-ka-na-i', 'cannot be allowed (to do)', '彼は、私をこんな悲しい場所に一人にしておくわけにはいかないと言っています。', '\"He says he can\\'t leave me alone in such a sad place.\"')\n",
      "私たちは\n",
      "\t('wa-ta-shi-ta-chi-wa', 'we (subject marker particle)', 'どんなに激しく雨が降ろうとも、私たちは明日出発します。', '\"No matter how heavily it rains, we will depart tomorrow.\"')\n",
      "\t('wa-ta-shi-ta-chi-wa', 'we (subject marker particle)', '私たちは会話が少ない。', '\"We don\\'t have much conversation.\"')\n"
     ]
    }
   ],
   "source": [
    "import re\n",
    "from collections import defaultdict\n",
    "\n",
    "translation = {}\n",
    "breakdown = defaultdict(list)\n",
    "\n",
    "with open(\"n5_vocabulary.md\", \"r\") as f:\n",
    "  title = \"\"\n",
    "  for line in f:\n",
    "    m = re.search(\"## \\*\\*(.*)\\*\\*\", line)\n",
    "    if m:\n",
    "      title = m.group(1)\n",
    "      continue\n",
    "    m = re.search(\"English translation: (.*)\", line)\n",
    "    if m:\n",
    "      translation[title] = m.group(1)\n",
    "      continue\n",
    "    m = re.search(\"    - (.*)\", line)\n",
    "    if m:\n",
    "      wordExplain = m.group(1)\n",
    "      m = re.search(\"(.*?) \\((.*?)\\) - (.*)\", wordExplain)\n",
    "      word, pronunciation, desc = m.groups()\n",
    "      breakdown[word] += [(pronunciation, desc, title, translation[title])]\n",
    "\n",
    "# print out breakdown words that has seen in different sentences\n",
    "for word, dataList in breakdown.items():\n",
    "  if len(dataList) <= 1:\n",
    "    continue\n",
    "  print(word)\n",
    "  for data in dataList:\n",
    "    print(f\"\\t{data}\")\n",
    "\n"
   ]
  }
 ],
 "metadata": {
  "kernelspec": {
   "display_name": "Python 3",
   "language": "python",
   "name": "python3"
  },
  "language_info": {
   "codemirror_mode": {
    "name": "ipython",
    "version": 3
   },
   "file_extension": ".py",
   "mimetype": "text/x-python",
   "name": "python",
   "nbconvert_exporter": "python",
   "pygments_lexer": "ipython3",
   "version": "3.10.6"
  },
  "orig_nbformat": 4
 },
 "nbformat": 4,
 "nbformat_minor": 2
}
